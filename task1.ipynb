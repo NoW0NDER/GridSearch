{
 "cells": [
  {
   "cell_type": "markdown",
   "metadata": {},
   "source": [
    "# Prepare Data"
   ]
  },
  {
   "cell_type": "code",
   "execution_count": 4,
   "metadata": {},
   "outputs": [],
   "source": [
    "import pandas as pd\n",
    "yellow_tripdata = pd.read_parquet('yellow_tripdata_2009-02.parquet')"
   ]
  },
  {
   "cell_type": "code",
   "execution_count": 5,
   "metadata": {},
   "outputs": [
    {
     "data": {
      "text/html": [
       "<div>\n",
       "<style scoped>\n",
       "    .dataframe tbody tr th:only-of-type {\n",
       "        vertical-align: middle;\n",
       "    }\n",
       "\n",
       "    .dataframe tbody tr th {\n",
       "        vertical-align: top;\n",
       "    }\n",
       "\n",
       "    .dataframe thead th {\n",
       "        text-align: right;\n",
       "    }\n",
       "</style>\n",
       "<table border=\"1\" class=\"dataframe\">\n",
       "  <thead>\n",
       "    <tr style=\"text-align: right;\">\n",
       "      <th></th>\n",
       "      <th>vendor_name</th>\n",
       "      <th>Trip_Pickup_DateTime</th>\n",
       "      <th>Trip_Dropoff_DateTime</th>\n",
       "      <th>Passenger_Count</th>\n",
       "      <th>Trip_Distance</th>\n",
       "      <th>Start_Lon</th>\n",
       "      <th>Start_Lat</th>\n",
       "      <th>Rate_Code</th>\n",
       "      <th>store_and_forward</th>\n",
       "      <th>End_Lon</th>\n",
       "      <th>End_Lat</th>\n",
       "      <th>Payment_Type</th>\n",
       "      <th>Fare_Amt</th>\n",
       "      <th>surcharge</th>\n",
       "      <th>mta_tax</th>\n",
       "      <th>Tip_Amt</th>\n",
       "      <th>Tolls_Amt</th>\n",
       "      <th>Total_Amt</th>\n",
       "    </tr>\n",
       "  </thead>\n",
       "  <tbody>\n",
       "    <tr>\n",
       "      <th>0</th>\n",
       "      <td>DDS</td>\n",
       "      <td>2009-02-03 08:25:00</td>\n",
       "      <td>2009-02-03 08:33:39</td>\n",
       "      <td>1</td>\n",
       "      <td>1.60</td>\n",
       "      <td>-73.992768</td>\n",
       "      <td>40.758325</td>\n",
       "      <td>NaN</td>\n",
       "      <td>NaN</td>\n",
       "      <td>-73.994710</td>\n",
       "      <td>40.739723</td>\n",
       "      <td>CASH</td>\n",
       "      <td>6.9</td>\n",
       "      <td>0.0</td>\n",
       "      <td>NaN</td>\n",
       "      <td>0.00</td>\n",
       "      <td>0.0</td>\n",
       "      <td>6.90</td>\n",
       "    </tr>\n",
       "    <tr>\n",
       "      <th>1</th>\n",
       "      <td>VTS</td>\n",
       "      <td>2009-02-28 00:26:00</td>\n",
       "      <td>2009-02-28 00:40:00</td>\n",
       "      <td>5</td>\n",
       "      <td>3.05</td>\n",
       "      <td>0.000000</td>\n",
       "      <td>0.000000</td>\n",
       "      <td>NaN</td>\n",
       "      <td>NaN</td>\n",
       "      <td>0.000000</td>\n",
       "      <td>0.000000</td>\n",
       "      <td>CASH</td>\n",
       "      <td>10.5</td>\n",
       "      <td>0.5</td>\n",
       "      <td>NaN</td>\n",
       "      <td>0.00</td>\n",
       "      <td>0.0</td>\n",
       "      <td>11.00</td>\n",
       "    </tr>\n",
       "    <tr>\n",
       "      <th>2</th>\n",
       "      <td>DDS</td>\n",
       "      <td>2009-02-22 00:39:23</td>\n",
       "      <td>2009-02-22 00:45:52</td>\n",
       "      <td>1</td>\n",
       "      <td>1.50</td>\n",
       "      <td>-73.137393</td>\n",
       "      <td>41.366138</td>\n",
       "      <td>NaN</td>\n",
       "      <td>NaN</td>\n",
       "      <td>-73.137393</td>\n",
       "      <td>41.366138</td>\n",
       "      <td>CASH</td>\n",
       "      <td>5.7</td>\n",
       "      <td>0.5</td>\n",
       "      <td>NaN</td>\n",
       "      <td>0.00</td>\n",
       "      <td>0.0</td>\n",
       "      <td>6.20</td>\n",
       "    </tr>\n",
       "    <tr>\n",
       "      <th>3</th>\n",
       "      <td>VTS</td>\n",
       "      <td>2009-02-28 12:47:00</td>\n",
       "      <td>2009-02-28 12:54:00</td>\n",
       "      <td>1</td>\n",
       "      <td>1.42</td>\n",
       "      <td>-73.980458</td>\n",
       "      <td>40.748445</td>\n",
       "      <td>NaN</td>\n",
       "      <td>NaN</td>\n",
       "      <td>-73.996103</td>\n",
       "      <td>40.737095</td>\n",
       "      <td>CASH</td>\n",
       "      <td>6.1</td>\n",
       "      <td>0.0</td>\n",
       "      <td>NaN</td>\n",
       "      <td>0.00</td>\n",
       "      <td>0.0</td>\n",
       "      <td>6.10</td>\n",
       "    </tr>\n",
       "    <tr>\n",
       "      <th>4</th>\n",
       "      <td>DDS</td>\n",
       "      <td>2009-02-05 18:34:35</td>\n",
       "      <td>2009-02-05 18:43:26</td>\n",
       "      <td>1</td>\n",
       "      <td>1.50</td>\n",
       "      <td>-73.137393</td>\n",
       "      <td>41.366138</td>\n",
       "      <td>NaN</td>\n",
       "      <td>NaN</td>\n",
       "      <td>-73.137393</td>\n",
       "      <td>41.366138</td>\n",
       "      <td>CASH</td>\n",
       "      <td>6.9</td>\n",
       "      <td>1.0</td>\n",
       "      <td>NaN</td>\n",
       "      <td>0.00</td>\n",
       "      <td>0.0</td>\n",
       "      <td>7.90</td>\n",
       "    </tr>\n",
       "    <tr>\n",
       "      <th>...</th>\n",
       "      <td>...</td>\n",
       "      <td>...</td>\n",
       "      <td>...</td>\n",
       "      <td>...</td>\n",
       "      <td>...</td>\n",
       "      <td>...</td>\n",
       "      <td>...</td>\n",
       "      <td>...</td>\n",
       "      <td>...</td>\n",
       "      <td>...</td>\n",
       "      <td>...</td>\n",
       "      <td>...</td>\n",
       "      <td>...</td>\n",
       "      <td>...</td>\n",
       "      <td>...</td>\n",
       "      <td>...</td>\n",
       "      <td>...</td>\n",
       "      <td>...</td>\n",
       "    </tr>\n",
       "    <tr>\n",
       "      <th>13380117</th>\n",
       "      <td>DDS</td>\n",
       "      <td>2009-02-01 17:09:40</td>\n",
       "      <td>2009-02-01 17:17:10</td>\n",
       "      <td>3</td>\n",
       "      <td>1.50</td>\n",
       "      <td>-73.970121</td>\n",
       "      <td>40.748764</td>\n",
       "      <td>NaN</td>\n",
       "      <td>NaN</td>\n",
       "      <td>-73.962825</td>\n",
       "      <td>40.766523</td>\n",
       "      <td>CASH</td>\n",
       "      <td>6.5</td>\n",
       "      <td>0.0</td>\n",
       "      <td>NaN</td>\n",
       "      <td>0.00</td>\n",
       "      <td>0.0</td>\n",
       "      <td>6.50</td>\n",
       "    </tr>\n",
       "    <tr>\n",
       "      <th>13380118</th>\n",
       "      <td>DDS</td>\n",
       "      <td>2009-02-03 13:13:43</td>\n",
       "      <td>2009-02-03 13:30:19</td>\n",
       "      <td>1</td>\n",
       "      <td>1.10</td>\n",
       "      <td>-73.985543</td>\n",
       "      <td>40.752639</td>\n",
       "      <td>NaN</td>\n",
       "      <td>NaN</td>\n",
       "      <td>-73.960740</td>\n",
       "      <td>40.759545</td>\n",
       "      <td>CASH</td>\n",
       "      <td>6.9</td>\n",
       "      <td>0.0</td>\n",
       "      <td>NaN</td>\n",
       "      <td>0.00</td>\n",
       "      <td>0.0</td>\n",
       "      <td>6.90</td>\n",
       "    </tr>\n",
       "    <tr>\n",
       "      <th>13380119</th>\n",
       "      <td>DDS</td>\n",
       "      <td>2009-02-01 15:51:00</td>\n",
       "      <td>2009-02-01 16:05:29</td>\n",
       "      <td>2</td>\n",
       "      <td>2.10</td>\n",
       "      <td>-73.975309</td>\n",
       "      <td>40.733122</td>\n",
       "      <td>NaN</td>\n",
       "      <td>NaN</td>\n",
       "      <td>-74.005796</td>\n",
       "      <td>40.733122</td>\n",
       "      <td>CREDIT</td>\n",
       "      <td>8.9</td>\n",
       "      <td>0.0</td>\n",
       "      <td>NaN</td>\n",
       "      <td>1.75</td>\n",
       "      <td>0.0</td>\n",
       "      <td>10.65</td>\n",
       "    </tr>\n",
       "    <tr>\n",
       "      <th>13380120</th>\n",
       "      <td>DDS</td>\n",
       "      <td>2009-02-07 01:33:43</td>\n",
       "      <td>2009-02-07 01:54:41</td>\n",
       "      <td>1</td>\n",
       "      <td>4.40</td>\n",
       "      <td>-73.972443</td>\n",
       "      <td>40.754235</td>\n",
       "      <td>NaN</td>\n",
       "      <td>NaN</td>\n",
       "      <td>-74.010250</td>\n",
       "      <td>40.719166</td>\n",
       "      <td>CASH</td>\n",
       "      <td>13.7</td>\n",
       "      <td>0.5</td>\n",
       "      <td>NaN</td>\n",
       "      <td>0.00</td>\n",
       "      <td>0.0</td>\n",
       "      <td>14.20</td>\n",
       "    </tr>\n",
       "    <tr>\n",
       "      <th>13380121</th>\n",
       "      <td>VTS</td>\n",
       "      <td>2009-02-28 13:01:00</td>\n",
       "      <td>2009-02-28 13:11:00</td>\n",
       "      <td>1</td>\n",
       "      <td>2.24</td>\n",
       "      <td>-73.991317</td>\n",
       "      <td>40.750028</td>\n",
       "      <td>NaN</td>\n",
       "      <td>NaN</td>\n",
       "      <td>-73.982580</td>\n",
       "      <td>40.769102</td>\n",
       "      <td>CASH</td>\n",
       "      <td>8.5</td>\n",
       "      <td>0.0</td>\n",
       "      <td>NaN</td>\n",
       "      <td>0.00</td>\n",
       "      <td>0.0</td>\n",
       "      <td>8.50</td>\n",
       "    </tr>\n",
       "  </tbody>\n",
       "</table>\n",
       "<p>13380122 rows × 18 columns</p>\n",
       "</div>"
      ],
      "text/plain": [
       "         vendor_name Trip_Pickup_DateTime Trip_Dropoff_DateTime  \\\n",
       "0                DDS  2009-02-03 08:25:00   2009-02-03 08:33:39   \n",
       "1                VTS  2009-02-28 00:26:00   2009-02-28 00:40:00   \n",
       "2                DDS  2009-02-22 00:39:23   2009-02-22 00:45:52   \n",
       "3                VTS  2009-02-28 12:47:00   2009-02-28 12:54:00   \n",
       "4                DDS  2009-02-05 18:34:35   2009-02-05 18:43:26   \n",
       "...              ...                  ...                   ...   \n",
       "13380117         DDS  2009-02-01 17:09:40   2009-02-01 17:17:10   \n",
       "13380118         DDS  2009-02-03 13:13:43   2009-02-03 13:30:19   \n",
       "13380119         DDS  2009-02-01 15:51:00   2009-02-01 16:05:29   \n",
       "13380120         DDS  2009-02-07 01:33:43   2009-02-07 01:54:41   \n",
       "13380121         VTS  2009-02-28 13:01:00   2009-02-28 13:11:00   \n",
       "\n",
       "          Passenger_Count  Trip_Distance  Start_Lon  Start_Lat  Rate_Code  \\\n",
       "0                       1           1.60 -73.992768  40.758325        NaN   \n",
       "1                       5           3.05   0.000000   0.000000        NaN   \n",
       "2                       1           1.50 -73.137393  41.366138        NaN   \n",
       "3                       1           1.42 -73.980458  40.748445        NaN   \n",
       "4                       1           1.50 -73.137393  41.366138        NaN   \n",
       "...                   ...            ...        ...        ...        ...   \n",
       "13380117                3           1.50 -73.970121  40.748764        NaN   \n",
       "13380118                1           1.10 -73.985543  40.752639        NaN   \n",
       "13380119                2           2.10 -73.975309  40.733122        NaN   \n",
       "13380120                1           4.40 -73.972443  40.754235        NaN   \n",
       "13380121                1           2.24 -73.991317  40.750028        NaN   \n",
       "\n",
       "          store_and_forward    End_Lon    End_Lat Payment_Type  Fare_Amt  \\\n",
       "0                       NaN -73.994710  40.739723         CASH       6.9   \n",
       "1                       NaN   0.000000   0.000000         CASH      10.5   \n",
       "2                       NaN -73.137393  41.366138         CASH       5.7   \n",
       "3                       NaN -73.996103  40.737095         CASH       6.1   \n",
       "4                       NaN -73.137393  41.366138         CASH       6.9   \n",
       "...                     ...        ...        ...          ...       ...   \n",
       "13380117                NaN -73.962825  40.766523         CASH       6.5   \n",
       "13380118                NaN -73.960740  40.759545         CASH       6.9   \n",
       "13380119                NaN -74.005796  40.733122       CREDIT       8.9   \n",
       "13380120                NaN -74.010250  40.719166         CASH      13.7   \n",
       "13380121                NaN -73.982580  40.769102         CASH       8.5   \n",
       "\n",
       "          surcharge  mta_tax  Tip_Amt  Tolls_Amt  Total_Amt  \n",
       "0               0.0      NaN     0.00        0.0       6.90  \n",
       "1               0.5      NaN     0.00        0.0      11.00  \n",
       "2               0.5      NaN     0.00        0.0       6.20  \n",
       "3               0.0      NaN     0.00        0.0       6.10  \n",
       "4               1.0      NaN     0.00        0.0       7.90  \n",
       "...             ...      ...      ...        ...        ...  \n",
       "13380117        0.0      NaN     0.00        0.0       6.50  \n",
       "13380118        0.0      NaN     0.00        0.0       6.90  \n",
       "13380119        0.0      NaN     1.75        0.0      10.65  \n",
       "13380120        0.5      NaN     0.00        0.0      14.20  \n",
       "13380121        0.0      NaN     0.00        0.0       8.50  \n",
       "\n",
       "[13380122 rows x 18 columns]"
      ]
     },
     "execution_count": 5,
     "metadata": {},
     "output_type": "execute_result"
    }
   ],
   "source": [
    "yellow_tripdata"
   ]
  },
  {
   "cell_type": "code",
   "execution_count": 6,
   "metadata": {},
   "outputs": [
    {
     "name": "stdout",
     "output_type": "stream",
     "text": [
      "-143.250622 1.216666 -0.052532 73.999865 1233446400000000000 1235865599000000000\n"
     ]
    }
   ],
   "source": [
    "intresting_cols = [\"Trip_Pickup_DateTime\", \"Start_Lon\", \"Start_Lat\",\"Total_Amt\"]\n",
    "\n",
    "intresting_data = yellow_tripdata[intresting_cols].dropna()\n",
    "\n",
    "# delete the rows with lon not in the range of [-180, 180] and lat not in the range of [-90, 90]\n",
    "intresting_data = intresting_data[(intresting_data[\"Start_Lon\"] >= -180) & (intresting_data[\"Start_Lon\"] <= 180) & (intresting_data[\"Start_Lat\"] >= -90) & (intresting_data[\"Start_Lat\"] <= 90)]\n",
    "\n",
    "min_start_lon = intresting_data[\"Start_Lon\"].min()\n",
    "\n",
    "max_start_lon = intresting_data[\"Start_Lon\"].max()\n",
    "\n",
    "min_start_lat = intresting_data[\"Start_Lat\"].min()\n",
    "\n",
    "max_start_lat = intresting_data[\"Start_Lat\"].max()\n",
    "\n",
    "#convert the date time to datetime object, and get the timestamp\n",
    "intresting_data[\"Trip_Pickup_DateTime\"] = pd.to_datetime(intresting_data[\"Trip_Pickup_DateTime\"])\n",
    "\n",
    "min_trip_pickup_datetime = intresting_data[\"Trip_Pickup_DateTime\"].min().value\n",
    "\n",
    "max_trip_pickup_datetime = intresting_data[\"Trip_Pickup_DateTime\"].max().value\n",
    "\n",
    "print(min_start_lon, max_start_lon, min_start_lat, max_start_lat, min_trip_pickup_datetime, max_trip_pickup_datetime)\n",
    "\n"
   ]
  },
  {
   "cell_type": "code",
   "execution_count": 19,
   "metadata": {},
   "outputs": [
    {
     "data": {
      "text/plain": [
       "Trip_Pickup_DateTime    2009-02-01 00:00:00\n",
       "Start_Lon                       -143.250622\n",
       "Start_Lat                         -0.052532\n",
       "Total_Amt                               2.5\n",
       "dtype: object"
      ]
     },
     "execution_count": 19,
     "metadata": {},
     "output_type": "execute_result"
    }
   ],
   "source": [
    "intresting_data.min()"
   ]
  },
  {
   "cell_type": "code",
   "execution_count": 7,
   "metadata": {},
   "outputs": [
    {
     "data": {
      "text/plain": [
       "197642"
      ]
     },
     "execution_count": 7,
     "metadata": {},
     "output_type": "execute_result"
    }
   ],
   "source": [
    "# count the number of lontitude values that are less than -74.5 or greater than -73.5\n",
    "\n",
    "intresting_data[\"Start_Lon\"].loc[(intresting_data[\"Start_Lon\"] < -90) | (intresting_data[\"Start_Lon\"] > -50)].count()"
   ]
  },
  {
   "cell_type": "code",
   "execution_count": 8,
   "metadata": {},
   "outputs": [],
   "source": [
    "def get_grid_loc(time, lon, lat, min_time = min_trip_pickup_datetime, max_time = max_trip_pickup_datetime, min_lon = min_start_lon, max_lon = max_start_lon, min_lat = min_start_lat, max_lat = max_start_lat, grid_size = 100):\n",
    "    time_loc = int((time.value - min_time)/(max_time - min_time+0.000001)*grid_size)\n",
    "    lon_loc = int((lon - min_lon)/(max_lon - min_lon+0.000001)*grid_size)\n",
    "    lat_loc = int((lat - min_lat)/(max_lat - min_lat+0.000001)*grid_size)\n",
    "    time_loc = time_loc - 1 if time_loc != 0 else 0\n",
    "    lon_loc = lon_loc - 1 if lon_loc != 0 else 0\n",
    "    lat_loc = lat_loc - 1 if lat_loc != 0 else 0\n",
    "    return (lon_loc, lat_loc, time_loc)\n",
    "    "
   ]
  },
  {
   "cell_type": "code",
   "execution_count": 9,
   "metadata": {},
   "outputs": [
    {
     "name": "stdout",
     "output_type": "stream",
     "text": [
      "<class 'pandas.core.frame.DataFrame'>\n",
      "Index: 13380112 entries, 0 to 13380121\n",
      "Data columns (total 4 columns):\n",
      " #   Column                Dtype         \n",
      "---  ------                -----         \n",
      " 0   Trip_Pickup_DateTime  datetime64[ns]\n",
      " 1   Start_Lon             float64       \n",
      " 2   Start_Lat             float64       \n",
      " 3   Total_Amt             float64       \n",
      "dtypes: datetime64[ns](1), float64(3)\n",
      "memory usage: 510.4 MB\n"
     ]
    }
   ],
   "source": [
    "intresting_data.info()"
   ]
  },
  {
   "cell_type": "code",
   "execution_count": 10,
   "metadata": {},
   "outputs": [
    {
     "data": {
      "text/html": [
       "<div>\n",
       "<style scoped>\n",
       "    .dataframe tbody tr th:only-of-type {\n",
       "        vertical-align: middle;\n",
       "    }\n",
       "\n",
       "    .dataframe tbody tr th {\n",
       "        vertical-align: top;\n",
       "    }\n",
       "\n",
       "    .dataframe thead th {\n",
       "        text-align: right;\n",
       "    }\n",
       "</style>\n",
       "<table border=\"1\" class=\"dataframe\">\n",
       "  <thead>\n",
       "    <tr style=\"text-align: right;\">\n",
       "      <th></th>\n",
       "      <th>Trip_Pickup_DateTime</th>\n",
       "      <th>Start_Lon</th>\n",
       "      <th>Start_Lat</th>\n",
       "      <th>Total_Amt</th>\n",
       "    </tr>\n",
       "  </thead>\n",
       "  <tbody>\n",
       "    <tr>\n",
       "      <th>0</th>\n",
       "      <td>2009-02-03 08:25:00</td>\n",
       "      <td>-73.992768</td>\n",
       "      <td>40.758325</td>\n",
       "      <td>6.90</td>\n",
       "    </tr>\n",
       "    <tr>\n",
       "      <th>1</th>\n",
       "      <td>2009-02-28 00:26:00</td>\n",
       "      <td>0.000000</td>\n",
       "      <td>0.000000</td>\n",
       "      <td>11.00</td>\n",
       "    </tr>\n",
       "    <tr>\n",
       "      <th>2</th>\n",
       "      <td>2009-02-22 00:39:23</td>\n",
       "      <td>-73.137393</td>\n",
       "      <td>41.366138</td>\n",
       "      <td>6.20</td>\n",
       "    </tr>\n",
       "    <tr>\n",
       "      <th>3</th>\n",
       "      <td>2009-02-28 12:47:00</td>\n",
       "      <td>-73.980458</td>\n",
       "      <td>40.748445</td>\n",
       "      <td>6.10</td>\n",
       "    </tr>\n",
       "    <tr>\n",
       "      <th>4</th>\n",
       "      <td>2009-02-05 18:34:35</td>\n",
       "      <td>-73.137393</td>\n",
       "      <td>41.366138</td>\n",
       "      <td>7.90</td>\n",
       "    </tr>\n",
       "    <tr>\n",
       "      <th>...</th>\n",
       "      <td>...</td>\n",
       "      <td>...</td>\n",
       "      <td>...</td>\n",
       "      <td>...</td>\n",
       "    </tr>\n",
       "    <tr>\n",
       "      <th>13380117</th>\n",
       "      <td>2009-02-01 17:09:40</td>\n",
       "      <td>-73.970121</td>\n",
       "      <td>40.748764</td>\n",
       "      <td>6.50</td>\n",
       "    </tr>\n",
       "    <tr>\n",
       "      <th>13380118</th>\n",
       "      <td>2009-02-03 13:13:43</td>\n",
       "      <td>-73.985543</td>\n",
       "      <td>40.752639</td>\n",
       "      <td>6.90</td>\n",
       "    </tr>\n",
       "    <tr>\n",
       "      <th>13380119</th>\n",
       "      <td>2009-02-01 15:51:00</td>\n",
       "      <td>-73.975309</td>\n",
       "      <td>40.733122</td>\n",
       "      <td>10.65</td>\n",
       "    </tr>\n",
       "    <tr>\n",
       "      <th>13380120</th>\n",
       "      <td>2009-02-07 01:33:43</td>\n",
       "      <td>-73.972443</td>\n",
       "      <td>40.754235</td>\n",
       "      <td>14.20</td>\n",
       "    </tr>\n",
       "    <tr>\n",
       "      <th>13380121</th>\n",
       "      <td>2009-02-28 13:01:00</td>\n",
       "      <td>-73.991317</td>\n",
       "      <td>40.750028</td>\n",
       "      <td>8.50</td>\n",
       "    </tr>\n",
       "  </tbody>\n",
       "</table>\n",
       "<p>13380112 rows × 4 columns</p>\n",
       "</div>"
      ],
      "text/plain": [
       "         Trip_Pickup_DateTime  Start_Lon  Start_Lat  Total_Amt\n",
       "0         2009-02-03 08:25:00 -73.992768  40.758325       6.90\n",
       "1         2009-02-28 00:26:00   0.000000   0.000000      11.00\n",
       "2         2009-02-22 00:39:23 -73.137393  41.366138       6.20\n",
       "3         2009-02-28 12:47:00 -73.980458  40.748445       6.10\n",
       "4         2009-02-05 18:34:35 -73.137393  41.366138       7.90\n",
       "...                       ...        ...        ...        ...\n",
       "13380117  2009-02-01 17:09:40 -73.970121  40.748764       6.50\n",
       "13380118  2009-02-03 13:13:43 -73.985543  40.752639       6.90\n",
       "13380119  2009-02-01 15:51:00 -73.975309  40.733122      10.65\n",
       "13380120  2009-02-07 01:33:43 -73.972443  40.754235      14.20\n",
       "13380121  2009-02-28 13:01:00 -73.991317  40.750028       8.50\n",
       "\n",
       "[13380112 rows x 4 columns]"
      ]
     },
     "execution_count": 10,
     "metadata": {},
     "output_type": "execute_result"
    }
   ],
   "source": [
    "intresting_data"
   ]
  },
  {
   "cell_type": "code",
   "execution_count": 11,
   "metadata": {},
   "outputs": [
    {
     "name": "stderr",
     "output_type": "stream",
     "text": [
      "100%|██████████| 13380112/13380112 [08:38<00:00, 25797.21it/s]\n"
     ]
    }
   ],
   "source": [
    "from  tqdm import tqdm\n",
    "grid = [[[[] for i in range(100)] for j in range(100)] for k in range(100)]\n",
    "\n",
    "for index, row in tqdm(intresting_data.iterrows(),total=intresting_data.shape[0]):\n",
    "    grid_loc = get_grid_loc(row[\"Trip_Pickup_DateTime\"], row[\"Start_Lon\"], row[\"Start_Lat\"])\n",
    "    grid[grid_loc[0]][grid_loc[1]][grid_loc[2]].append((row[\"Start_Lon\"], row[\"Start_Lat\"],row[\"Trip_Pickup_DateTime\"].value, row[\"Total_Amt\"]))"
   ]
  },
  {
   "cell_type": "code",
   "execution_count": 12,
   "metadata": {},
   "outputs": [],
   "source": [
    "# # multi threading\n",
    "# import threading\n",
    "# import os\n",
    "\n",
    "# def write_to_grid(df, start_iloc, end_iloc,grid):\n",
    "#     for index in tqdm(range(start_iloc, end_iloc)):\n",
    "#         row = df.iloc[index]\n",
    "#         grid_loc = get_grid_loc(row[\"Trip_Pickup_DateTime\"], row[\"Start_Lon\"], row[\"Start_Lat\"])\n",
    "#         grid[grid_loc[0]][grid_loc[1]][grid_loc[2]].append((row[\"Start_Lon\"], row[\"Start_Lat\"],row[\"Trip_Pickup_DateTime\"].value, row[\"Total_Amt\"]))\n",
    "\n",
    "# cpu_count = os.cpu_count()\n",
    "# test_grid = [[[[] for i in range(100)] for j in range(100)] for k in range(100)]\n",
    "# for i in range(cpu_count):\n",
    "#     start_index = intresting_data.shape[0]//cpu_count*i\n",
    "#     end_index = intresting_data.shape[0]//cpu_count*(i+1) if i != cpu_count-1 else intresting_data.shape[0]\n",
    "    \n",
    "#     threading.Thread(target=write_to_grid, args=(intresting_data, start_index, end_index,test_grid)).start()"
   ]
  },
  {
   "cell_type": "code",
   "execution_count": 20,
   "metadata": {},
   "outputs": [
    {
     "name": "stdout",
     "output_type": "stream",
     "text": [
      "['-102', '-79.934', '38', '56.57', '2009-02-25 08:38:24', '2009-02-27 11:25:56']\n",
      "1235522304000000000 1235705156000000000\n",
      "['-85.8', '-82.1', '-39.1', '44.4', '2009-02-14 07:59:52', '2009-02-15 22:32:16']\n",
      "1234569592000000000 1234708336000000000\n",
      "['-78.7', '-73.969', '31.808', '40.761', '2009-02-14 02:57:22', '2009-02-27 11:08:06']\n",
      "1234551442000000000 1235704086000000000\n",
      "['-73.9983', '-73.994', '40.7356', '40.745', '2009-02-01 02:53:37', '2009-02-03 23:03:00']\n",
      "1233428017000000000 1233673380000000000\n",
      "['-73.9983', '-73.988', '40.7356', '40.746', '2009-02-01 02:53:37', '2009-02-06 16:30:00']\n",
      "1233428017000000000 1233909000000000000\n",
      "['-74.1', '-73.992', '40.742', '40.752', '2009-02-02 02:00:00', '2009-02-12 10:30:00']\n",
      "1233511200000000000 1234405800000000000\n",
      "['-76.1', '-73.211', '40.631', '41.711', '2009-02-02 02:00:00', '2009-02-15 10:30:00']\n",
      "1233511200000000000 1234665000000000000\n",
      "['-76.1', '-73.993', '40.631', '47.181', '2009-02-24 02:00:00', '2009-02-27 10:30:00']\n",
      "1235412000000000000 1235701800000000000\n"
     ]
    },
    {
     "name": "stderr",
     "output_type": "stream",
     "text": [
      "100%|██████████| 13380112/13380112 [00:25<00:00, 517325.82it/s]\n"
     ]
    },
    {
     "name": "stdout",
     "output_type": "stream",
     "text": [
      "29.02\n"
     ]
    },
    {
     "name": "stderr",
     "output_type": "stream",
     "text": [
      "100%|██████████| 13380112/13380112 [00:17<00:00, 772932.92it/s] \n"
     ]
    },
    {
     "name": "stdout",
     "output_type": "stream",
     "text": [
      "16.6\n"
     ]
    },
    {
     "name": "stderr",
     "output_type": "stream",
     "text": [
      "100%|██████████| 13380112/13380112 [00:20<00:00, 645686.70it/s]\n"
     ]
    },
    {
     "name": "stdout",
     "output_type": "stream",
     "text": [
      "37277472.54000857\n"
     ]
    },
    {
     "name": "stderr",
     "output_type": "stream",
     "text": [
      "100%|██████████| 13380112/13380112 [00:18<00:00, 717124.09it/s]\n"
     ]
    },
    {
     "name": "stdout",
     "output_type": "stream",
     "text": [
      "136914.1500000004\n"
     ]
    },
    {
     "name": "stderr",
     "output_type": "stream",
     "text": [
      "100%|██████████| 13380112/13380112 [00:19<00:00, 698320.00it/s]\n"
     ]
    },
    {
     "name": "stdout",
     "output_type": "stream",
     "text": [
      "904896.1299999851\n"
     ]
    },
    {
     "name": "stderr",
     "output_type": "stream",
     "text": [
      "100%|██████████| 13380112/13380112 [00:18<00:00, 721877.37it/s]\n"
     ]
    },
    {
     "name": "stdout",
     "output_type": "stream",
     "text": [
      "2210603.540000049\n"
     ]
    },
    {
     "name": "stderr",
     "output_type": "stream",
     "text": [
      "100%|██████████| 13380112/13380112 [00:22<00:00, 587786.84it/s]\n"
     ]
    },
    {
     "name": "stdout",
     "output_type": "stream",
     "text": [
      "64814503.07000895\n"
     ]
    },
    {
     "name": "stderr",
     "output_type": "stream",
     "text": [
      "100%|██████████| 13380112/13380112 [00:19<00:00, 678829.02it/s]"
     ]
    },
    {
     "name": "stdout",
     "output_type": "stream",
     "text": [
      "3784426.3000001134\n"
     ]
    },
    {
     "name": "stderr",
     "output_type": "stream",
     "text": [
      "\n"
     ]
    }
   ],
   "source": [
    "from datetime import datetime\n",
    "def query_text_to_list(s):\n",
    "    query_str_list = s.strip().split(\",\")\n",
    "    low_x = float(query_str_list[0])\n",
    "    up_x = float(query_str_list[1])\n",
    "    low_y = float(query_str_list[2])\n",
    "    up_y = float(query_str_list[3])\n",
    "    low_time = int(datetime.strptime(query_str_list[4], \"%Y-%m-%d %H:%M:%S\").timestamp())*1000000000\n",
    "    up_time = int(datetime.strptime(query_str_list[5], \"%Y-%m-%d %H:%M:%S\").timestamp())*1000000000\n",
    "    print(query_str_list)\n",
    "    print(low_time, up_time)\n",
    "    return [low_x, up_x, low_y, up_y, low_time, up_time]\n",
    "with open(\"queries.txt\") as f:\n",
    "    queries = f.readlines()\n",
    "    struc_queries = list(map(query_text_to_list, queries))\n",
    "    \n",
    "    for query in struc_queries:\n",
    "        low_x, up_x, low_y, up_y, low_time, up_time = query\n",
    "        total = 0\n",
    "        for data in tqdm(intresting_data.itertuples(),total=intresting_data.shape[0]):\n",
    "            if low_x <= data.Start_Lon <= up_x and low_y <= data.Start_Lat <= up_y and low_time <= data.Trip_Pickup_DateTime.value <= up_time:\n",
    "                total += data.Total_Amt\n",
    "        print(total)"
   ]
  },
  {
   "cell_type": "code",
   "execution_count": 13,
   "metadata": {},
   "outputs": [],
   "source": [
    "with open(\"grid.txt\", \"w\") as f:\n",
    "    header = f\"\"\"{min_start_lon}, {max_start_lon}\\n{min_start_lat}, {max_start_lat}\\n{min_trip_pickup_datetime}, {max_trip_pickup_datetime}\\n\"\"\"\n",
    "    f.write(header)\n",
    "    for i in range(100):\n",
    "        for j in range(100):\n",
    "            for k in range(100):\n",
    "                f.write(f\"({i},{j},{k})\\n\")\n",
    "                total = sum([l[3] for l in grid[i][j][k]])\n",
    "                f.write(f\"{total}\\n\")\n",
    "                for l in grid[i][j][k]:\n",
    "                    f.write(f\"{l[0]},{l[1]},{l[2]},{l[3]}\\n\")"
   ]
  },
  {
   "cell_type": "markdown",
   "metadata": {},
   "source": [
    "# Parse Query"
   ]
  },
  {
   "cell_type": "code",
   "execution_count": 14,
   "metadata": {},
   "outputs": [
    {
     "name": "stdout",
     "output_type": "stream",
     "text": [
      "[[-102.0, -79.934, 38.0, 56.57, 1235522304000000000, 1235705156000000000], [-85.8, -82.1, -39.1, 44.4, 1234569592000000000, 1234708336000000000], [-78.7, -73.969, 31.808, 40.761, 1234551442000000000, 1235704086000000000], [-73.9983, -73.994, 40.7356, 40.745, 1233428017000000000, 1233673380000000000], [-73.9983, -73.988, 40.7356, 40.746, 1233428017000000000, 1233909000000000000], [-74.1, -73.992, 40.742, 40.752, 1233511200000000000, 1234405800000000000], [-76.1, -73.211, 40.631, 41.711, 1233511200000000000, 1234665000000000000], [-76.1, -73.993, 40.631, 47.181, 1235412000000000000, 1235701800000000000]]\n"
     ]
    }
   ],
   "source": [
    "from datetime import datetime\n",
    "def query_text_to_list(s):\n",
    "    query_str_list = s.strip().split(\",\")\n",
    "    low_x = float(query_str_list[0])\n",
    "    up_x = float(query_str_list[1])\n",
    "    low_y = float(query_str_list[2])\n",
    "    up_y = float(query_str_list[3])\n",
    "    low_time = int(datetime.strptime(query_str_list[4], \"%Y-%m-%d %H:%M:%S\").timestamp())*1000000000\n",
    "    up_time = int(datetime.strptime(query_str_list[5], \"%Y-%m-%d %H:%M:%S\").timestamp())*1000000000\n",
    "    return [low_x, up_x, low_y, up_y, low_time, up_time]\n",
    "    \n",
    "\n",
    "with open(\"queries.txt\") as f:\n",
    "    queries = f.readlines()\n",
    "    struc_queries = list(map(query_text_to_list, queries))\n",
    "print(struc_queries[:10])"
   ]
  },
  {
   "cell_type": "code",
   "execution_count": 15,
   "metadata": {},
   "outputs": [],
   "source": [
    "def get_grid_loc(time, lon, lat, min_time = min_trip_pickup_datetime, max_time = max_trip_pickup_datetime, min_lon = min_start_lon, max_lon = max_start_lon, min_lat = min_start_lat, max_lat = max_start_lat, grid_size = 100):\n",
    "    time_loc = int((time.value - min_time)/(max_time - min_time+0.000001)*grid_size)\n",
    "    lon_loc = int((lon - min_lon)/(max_lon - min_lon+0.000001)*grid_size)\n",
    "    lat_loc = int((lat - min_lat)/(max_lat - min_lat+0.000001)*grid_size)\n",
    "    time_loc = time_loc - 1 if time_loc != 0 else 0\n",
    "    lon_loc = lon_loc - 1 if lon_loc != 0 else 0\n",
    "    lat_loc = lat_loc - 1 if lat_loc != 0 else 0\n",
    "    return (lon_loc, lat_loc, time_loc)"
   ]
  },
  {
   "cell_type": "code",
   "execution_count": 16,
   "metadata": {},
   "outputs": [],
   "source": [
    "def calc_fraction(i,j,k, low_x, up_x, low_y, up_y, low_time, up_time):\n",
    "    min_x = min_start_lon + (max_start_lon - min_start_lon)/100*i\n",
    "    max_x = min_start_lon + (max_start_lon - min_start_lon)/100*(i+1)\n",
    "    min_y = min_start_lat + (max_start_lat - min_start_lat)/100*j\n",
    "    max_y = min_start_lat + (max_start_lat - min_start_lat)/100*(j+1)\n",
    "    min_time = min_trip_pickup_datetime + (max_trip_pickup_datetime - min_trip_pickup_datetime)/100*k\n",
    "    max_time = min_trip_pickup_datetime + (max_trip_pickup_datetime - min_trip_pickup_datetime)/100*(k+1)\n",
    "    if min_x<low_x:\n",
    "        x_per = (max_x - low_x)/(max_x - min_x)\n",
    "    else:\n",
    "        x_per = (up_x - min_x)/(max_x - min_x)\n",
    "    if min_y<low_y:\n",
    "        y_per = (max_y - low_y)/(max_y - min_y)\n",
    "    else:\n",
    "        y_per = (up_y - min_y)/(max_y - min_y)\n",
    "    if min_time<low_time:\n",
    "        time_per = (max_time - low_time)/(max_time - min_time)\n",
    "    else:\n",
    "        time_per = (up_time - min_time)/(max_time - min_time)\n",
    "    return x_per*y_per*time_per"
   ]
  },
  {
   "cell_type": "code",
   "execution_count": 17,
   "metadata": {},
   "outputs": [],
   "source": [
    "class Query:\n",
    "    def __init__(self, low_x, up_x, low_y, up_y, low_time, up_time):\n",
    "        grid_size = 100\n",
    "        self.low_x = low_x\n",
    "        self.up_x = up_x\n",
    "        self.low_y = low_y\n",
    "        self.up_y = up_y\n",
    "        self.low_time = low_time\n",
    "        self.up_time = up_time\n",
    "        low_x_grid = int((self.low_time - min_trip_pickup_datetime)/(max_trip_pickup_datetime - min_trip_pickup_datetime+0.000001)*grid_size)\n",
    "        up_x_grid = int((self.up_time - min_trip_pickup_datetime)/(max_trip_pickup_datetime - min_trip_pickup_datetime+0.000001)*grid_size)\n",
    "        low_y_grid = int((self.low_x - min_start_lon)/(max_start_lon - min_start_lon+0.000001)*grid_size)\n",
    "        up_y_grid = int((self.up_x - min_start_lon)/(max_start_lon - min_start_lon+0.000001)*grid_size)\n",
    "        low_time_grid = int((self.low_y - min_start_lat)/(max_start_lat - min_start_lat+0.000001)*grid_size)\n",
    "        up_time_grid = int((self.up_y - min_start_lat)/(max_start_lat - min_start_lat+0.000001)*grid_size)\n",
    "        self.low_x_grid = low_x_grid - 1 if low_x_grid != 0 else 0\n",
    "        self.up_x_grid = up_x_grid - 1 if up_x_grid != 0 else 0\n",
    "        self.low_y_grid = low_y_grid - 1 if low_y_grid != 0 else 0\n",
    "        self.up_y_grid = up_y_grid - 1 if up_y_grid != 0 else 0\n",
    "        self.low_time_grid = low_time_grid - 1 if low_time_grid != 0 else 0\n",
    "        self.up_time_grid = up_time_grid - 1 if up_time_grid != 0 else 0\n",
    "        self.grid_total_amts = [[[sum([l[3] for l in grid[i][j][k]]) for i in range(100)] for j in range(100)] for k in range(100)]\n",
    "    def get_low_x_grid(self):\n",
    "        return self.low_x_grid\n",
    "    def get_up_x_grid(self):\n",
    "        return self.up_x_grid\n",
    "    def get_low_y_grid(self):\n",
    "        return self.low_y_grid\n",
    "    def get_up_y_grid(self):\n",
    "        return self.up_y_grid\n",
    "    def get_low_time_grid(self):\n",
    "        return self.low_time_grid\n",
    "    def get_sum_grid_points_in_query(self,grid_points):\n",
    "        # print(grid_points)\n",
    "        sum = 0\n",
    "        for grid_point in grid_points:\n",
    "            if grid_point[0] >= self.low_x and grid_point[0] <= self.up_x and grid_point[1] >= self.low_y and grid_point[1] <= self.up_y and grid_point[2] >= self.low_time and grid_point[2] <= self.up_time:\n",
    "                sum+=grid_point[3]\n",
    "        return sum\n",
    "    def exac_query(self):\n",
    "        sum = 0\n",
    "        for i in range(self.low_x_grid, self.up_x_grid+1):\n",
    "            for j in range(self.low_y_grid, self.up_y_grid+1):\n",
    "                for k in range(self.low_time_grid, self.up_time_grid+1):\n",
    "                    if i == self.low_x_grid or i == self.up_x_grid or j == self.low_y_grid or j == self.up_y_grid or k == self.low_time_grid or k == self.up_time_grid:\n",
    "                        sum+=self.get_sum_grid_points_in_query(grid[i][j][k])\n",
    "                    else:\n",
    "                        sum += self.grid_total_amts[i][j][k]\n",
    "        return sum\n",
    "    def approx_query(self):\n",
    "        sum = 0\n",
    "        for i in range(self.low_x_grid, self.up_x_grid+1):\n",
    "            for j in range(self.low_y_grid, self.up_y_grid+1):\n",
    "                for k in range(self.low_time_grid, self.up_time_grid+1):\n",
    "                    if i == self.low_x_grid or i == self.up_x_grid or j == self.low_y_grid or j == self.up_y_grid or k == self.low_time_grid or k == self.up_time_grid:\n",
    "                        sum += calc_fraction(i,j,k, self.low_x, self.up_x, self.low_y, self.up_y, self.low_time, self.up_time)*self.grid_total_amts[i][j][k]\n",
    "                    else:\n",
    "                        sum += self.grid_total_amts[i][j][k]\n",
    "        return sum\n",
    "    \n",
    "\n",
    "        \n",
    "        "
   ]
  },
  {
   "cell_type": "code",
   "execution_count": 18,
   "metadata": {},
   "outputs": [
    {
     "name": "stderr",
     "output_type": "stream",
     "text": [
      "100%|██████████| 8/8 [00:15<00:00,  1.94s/it]\n",
      "100%|██████████| 8/8 [00:15<00:00,  1.92s/it]\n"
     ]
    }
   ],
   "source": [
    "from tqdm import tqdm\n",
    "with open(\"exact_results.txt\", \"w\") as f:\n",
    "    for query in tqdm(struc_queries):\n",
    "        query = Query(*query)\n",
    "        f.write(str(query.exac_query()) + \"\\n\")\n",
    "        \n",
    "with open(\"approx_results.txt\", \"w\") as f:\n",
    "    for query in tqdm(struc_queries):\n",
    "        query = Query(*query)\n",
    "        f.write(str(query.approx_query()) + \"\\n\")\n",
    "        "
   ]
  }
 ],
 "metadata": {
  "kernelspec": {
   "display_name": "py310",
   "language": "python",
   "name": "python3"
  },
  "language_info": {
   "codemirror_mode": {
    "name": "ipython",
    "version": 3
   },
   "file_extension": ".py",
   "mimetype": "text/x-python",
   "name": "python",
   "nbconvert_exporter": "python",
   "pygments_lexer": "ipython3",
   "version": "3.10.13"
  }
 },
 "nbformat": 4,
 "nbformat_minor": 2
}
